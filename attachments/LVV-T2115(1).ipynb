{
 "cells": [
  {
   "cell_type": "markdown",
   "id": "2234c83e",
   "metadata": {},
   "source": [
    "## LVV-T2115: Report"
   ]
  },
  {
   "cell_type": "code",
   "execution_count": 1,
   "id": "2e861ca0",
   "metadata": {},
   "outputs": [],
   "source": [
    "from astropy.time import Time, TimeDelta\n",
    "import numpy\n",
    "import pandas as pd\n",
    "from matplotlib import pylab as plt\n",
    "\n",
    "from lsst_efd_client import EfdClient"
   ]
  },
  {
   "cell_type": "markdown",
   "id": "c6048138",
   "metadata": {},
   "source": [
    "### Process\n",
    "The process is to interrogate the EFD to see if there are any messages missing over a representative 5 day window of continuous operation.\n",
    "We will need to connect to the EFD at the summit.  This is done in the next cell."
   ]
  },
  {
   "cell_type": "code",
   "execution_count": 2,
   "id": "c746bc5c",
   "metadata": {},
   "outputs": [],
   "source": [
    "efd = EfdClient('summit_efd')"
   ]
  },
  {
   "cell_type": "markdown",
   "id": "608d641a",
   "metadata": {},
   "source": [
    "Next we select the time window.\n",
    "Back at the end of May, there was a concerted effort to run the `MTM1M3` subsystem for a contiguous 5 day window.\n",
    "It turned out that it was able to run essentially uninterrupted for more than 10 days.\n",
    "There were a number of faults over the course of the window, but those are not a concern here since the message sequence always resets to zero when the system comes back on line.\n",
    "This means we are just looking for gaps where the messages are not consecutive.\n",
    "\n",
    "We chose a time close to the beginning of the May run because it overlaps the most intensive use of the system, so should be the most likely to drop messages.\n",
    "The start of the window is 2021-05-25T00:00:00 and we take all entries for 5 days following that start time."
   ]
  },
  {
   "cell_type": "code",
   "execution_count": 3,
   "id": "a9fd2849",
   "metadata": {},
   "outputs": [],
   "source": [
    "t1 = Time('2021-05-25T00:00:00', scale='tai')\n",
    "t2 = t1 + TimeDelta(5*24*3600, format='sec', scale='tai')"
   ]
  },
  {
   "cell_type": "markdown",
   "id": "f3b67c83",
   "metadata": {},
   "source": [
    "The topic chosen is `lsst.sal.MTM1M3.forceActuatorData`.\n",
    "This is both the highest cadence and one of the widest topics in the `MTM1M3` subsystem.\n",
    "\n",
    "With both the topic and time window defined, we can now select the data.\n",
    "We use the \"chunked\" method since we are retrieving a large amount of data.\n",
    "This method is more robust for long running queries."
   ]
  },
  {
   "cell_type": "code",
   "execution_count": 4,
   "id": "2af81941",
   "metadata": {},
   "outputs": [],
   "source": [
    "cl = efd.influx_client\n",
    "query_str = (\"SELECT \\\"private_seqNum\\\" \" +\n",
    "            \"FROM \\\"efd\\\".\\\"autogen\\\".\\\"lsst.sal.MTM1M3.forceActuatorData\\\" \" +\n",
    "            f\"WHERE time > '{t1.isot}Z' and time <= '{t2.isot}Z'\")\n",
    "\n",
    "chunks = await cl.query(query_str, chunked=True, chunk_size=2000) # The default chunk size is 1000\n",
    "\n",
    "seq_chunks = []\n",
    "offset = 0\n",
    "async for c in chunks:\n",
    "    seq_chunks.append(c)\n",
    "raw_seq_num = pd.concat(seq_chunks)"
   ]
  },
  {
   "cell_type": "markdown",
   "id": "364b2739",
   "metadata": {},
   "source": [
    "### Results\n",
    "Now account for any resets in the system.\n",
    "It's assumed that the correct offset is the last value of the previous string of messages."
   ]
  },
  {
   "cell_type": "code",
   "execution_count": 5,
   "id": "1ecb77e9",
   "metadata": {},
   "outputs": [],
   "source": [
    "seq_nums = []\n",
    "offset = 0\n",
    "for s in raw_seq_num['private_seqNum']:\n",
    "    if seq_nums and s == 0:\n",
    "        offset = seq_nums[-1] + 1  # The sequence resets to zero when the system reboots\n",
    "    seq_nums.append(s + offset)"
   ]
  },
  {
   "cell_type": "markdown",
   "id": "1e5a2b9c",
   "metadata": {},
   "source": [
    "Check that the array is monotonically increasing.\n",
    "If it is, the following cell should not print anything."
   ]
  },
  {
   "cell_type": "code",
   "execution_count": 6,
   "id": "ec36e30d",
   "metadata": {},
   "outputs": [],
   "source": [
    "seq_nums = numpy.array(seq_nums)\n",
    "\n",
    "last = seq_nums[0]\n",
    "for s in seq_nums[1:]:\n",
    "    if not s > last:\n",
    "        print(s, 'is not greater than', last)\n",
    "    last = s"
   ]
  },
  {
   "cell_type": "markdown",
   "id": "1a1e1675",
   "metadata": {},
   "source": [
    "Now find the difference between all adjacent entries.\n",
    "If we have not lost any messages, every entry should be 1."
   ]
  },
  {
   "cell_type": "code",
   "execution_count": 7,
   "id": "f776eb68",
   "metadata": {},
   "outputs": [],
   "source": [
    "diff = seq_nums[1:] - seq_nums[:-1]"
   ]
  },
  {
   "cell_type": "markdown",
   "id": "fa690968",
   "metadata": {},
   "source": [
    "If all the entries are one, subtracting an array of all ones should produce an array of all zeros.\n",
    "We show this compactly by demonstrating that subtracting one from every element results in an array that sums to zero.\n",
    "It is true that this would show the same result if the sum of elements that deviate in the negative direction exactly the same as the sum of the elements that deviate in the positive direction, but we will show a histogram that indicates that this is not the case."
   ]
  },
  {
   "cell_type": "code",
   "execution_count": 8,
   "id": "4ea3af4e",
   "metadata": {},
   "outputs": [
    {
     "name": "stdout",
     "output_type": "stream",
     "text": [
      "0.0\n"
     ]
    }
   ],
   "source": [
    "print((diff - numpy.ones(len(diff))).sum())"
   ]
  },
  {
   "cell_type": "code",
   "execution_count": 9,
   "id": "329f971c",
   "metadata": {},
   "outputs": [],
   "source": [
    "hist = numpy.histogram(diff, bins = numpy.array(range(1, 21))/10 - 0.05)"
   ]
  },
  {
   "cell_type": "markdown",
   "id": "60587d98",
   "metadata": {},
   "source": [
    "Below is the histogram of the values in the differences between message ID values.\n",
    "We normalize the value in every bin by the length of the array.\n",
    "This gives the fraction of the elements in each bin."
   ]
  },
  {
   "cell_type": "code",
   "execution_count": 10,
   "id": "43b9465e",
   "metadata": {},
   "outputs": [
    {
     "data": {
      "image/png": "[encoded data removed]",
      "text/plain": [
       "<Figure size 432x288 with 1 Axes>"
      ]
     },
     "metadata": {
      "needs_background": "light"
     },
     "output_type": "display_data"
    }
   ],
   "source": [
    "vals = hist[0]/len(diff) # normalize the counts\n",
    "bins = hist[1][:-1]\n",
    "bar = plt.bar(bins, vals, width=0.1, align='edge')\n",
    "xl = plt.xlabel('diff values')\n",
    "yl = plt.ylabel('fraction of entries in bin')"
   ]
  },
  {
   "cell_type": "markdown",
   "id": "d0d406c8",
   "metadata": {},
   "source": [
    "By printing the values plotted in the histogram above, we show that the bin containing the value of 1 is itself 1.\n",
    "This means that 100% of the elements in the pairwise difference array are 1.\n",
    "This means that the message id values are not only monotonically increasing, but also exactly sequential.\n",
    "Because there are no gaps in the sequence, we infer that we have missed no messages in the stream."
   ]
  },
  {
   "cell_type": "code",
   "execution_count": 11,
   "id": "0ddd1cb6",
   "metadata": {},
   "outputs": [
    {
     "name": "stdout",
     "output_type": "stream",
     "text": [
      "[0. 0. 0. 0. 0. 0. 0. 0. 0. 1. 0. 0. 0. 0. 0. 0. 0. 0. 0.]\n"
     ]
    }
   ],
   "source": [
    "print(vals)"
   ]
  },
  {
   "cell_type": "code",
   "execution_count": 12,
   "id": "95ceaf75",
   "metadata": {},
   "outputs": [
    {
     "data": {
      "text/plain": [
       "21373507"
      ]
     },
     "execution_count": 12,
     "metadata": {},
     "output_type": "execute_result"
    }
   ],
   "source": [
    "len(diff)"
   ]
  }
 ],
 "metadata": {
  "kernelspec": {
   "display_name": "LSST",
   "language": "python",
   "name": "lsst"
  },
  "language_info": {
   "codemirror_mode": {
    "name": "ipython",
    "version": 3
   },
   "file_extension": ".py",
   "mimetype": "text/x-python",
   "name": "python",
   "nbconvert_exporter": "python",
   "pygments_lexer": "ipython3",
   "version": "3.8.8"
  }
 },
 "nbformat": 4,
 "nbformat_minor": 5
}
